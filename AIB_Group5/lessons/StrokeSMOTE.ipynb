{
 "cells": [
  {
   "cell_type": "code",
   "execution_count": 6,
   "id": "bfa4a83b-c639-4d03-80a5-8ebc738f93fc",
   "metadata": {},
   "outputs": [],
   "source": [
    "import pandas as pd\n",
    "import numpy as np\n",
    "import matplotlib.pyplot as plt\n",
    "from collections import Counter\n",
    "from imblearn.over_sampling import SMOTE"
   ]
  },
  {
   "cell_type": "code",
   "execution_count": 8,
   "id": "ee838a79-4221-44b8-b5bd-002a11eeadd9",
   "metadata": {},
   "outputs": [],
   "source": [
    "X_train = pd.read_csv(\"../data/stroke_X_train.csv\")\n",
    "X_test = pd.read_csv(\"../data/stroke_X_test.csv\")\n",
    "y_train = pd.read_csv(\"../data/stroke_y_train.csv\")\n",
    "y_test = pd.read_csv(\"../data/stroke_y_test.csv\")"
   ]
  },
  {
   "cell_type": "code",
   "execution_count": 10,
   "id": "2834205a-14db-4e3f-8af1-1f6132ceed90",
   "metadata": {},
   "outputs": [],
   "source": [
    "smote = SMOTE(sampling_strategy=0.5, random_state=0)  # 원하는 비율을 설정\n",
    "X_train_smote, y_train_smote = smote.fit_resample(X_train, y_train)"
   ]
  },
  {
   "cell_type": "code",
   "execution_count": 12,
   "id": "6b80719b-b0a5-41b5-ab7f-ee892ede08e4",
   "metadata": {},
   "outputs": [],
   "source": [
    "X_train_smote.to_csv('../data/stroke_X_train_smote.csv', index = False)\n",
    "y_train_smote.to_csv('../data/stroke_y_train_smote.csv',  index = False)"
   ]
  },
  {
   "cell_type": "code",
   "execution_count": 16,
   "id": "51784c8a-7c3a-4413-98d6-746bfd269ea7",
   "metadata": {},
   "outputs": [
    {
     "name": "stdout",
     "output_type": "stream",
     "text": [
      "1879\n"
     ]
    }
   ],
   "source": [
    "zero_count = (y_train_smote['Stroke'] == 1).sum()\n",
    "print(zero_count)"
   ]
  },
  {
   "cell_type": "code",
   "execution_count": null,
   "id": "5d5739fa-e42f-4750-96fb-c9c5c68f9e2e",
   "metadata": {},
   "outputs": [],
   "source": []
  }
 ],
 "metadata": {
  "kernelspec": {
   "display_name": "Python [conda env:base] *",
   "language": "python",
   "name": "conda-base-py"
  },
  "language_info": {
   "codemirror_mode": {
    "name": "ipython",
    "version": 3
   },
   "file_extension": ".py",
   "mimetype": "text/x-python",
   "name": "python",
   "nbconvert_exporter": "python",
   "pygments_lexer": "ipython3",
   "version": "3.12.7"
  }
 },
 "nbformat": 4,
 "nbformat_minor": 5
}
