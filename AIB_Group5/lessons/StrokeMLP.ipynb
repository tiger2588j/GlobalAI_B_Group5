{
 "cells": [
  {
   "cell_type": "code",
   "execution_count": 1,
   "id": "34072570-4c09-4f6b-a6a0-24bc1f5e61eb",
   "metadata": {},
   "outputs": [],
   "source": [
    "from sklearn.neural_network import MLPClassifier\n",
    "from sklearn.model_selection import train_test_split\n",
    "from sklearn.metrics import accuracy_score\n",
    "from sklearn.metrics import classification_report, confusion_matrix, accuracy_score, recall_score, precision_score, f1_score\n",
    "\n",
    "import pandas as pd\n",
    "import numpy as np"
   ]
  },
  {
   "cell_type": "code",
   "execution_count": 2,
   "id": "bfffb275-4ab1-4b2d-bfb9-847d5b7e3580",
   "metadata": {},
   "outputs": [],
   "source": [
    "X_train = pd.read_csv(\"../data/stroke_X_train_smote.csv\")\n",
    "X_test = pd.read_csv(\"../data/stroke_X_test.csv\")\n",
    "y_train = pd.read_csv(\"../data/stroke_y_train_smote.csv\")\n",
    "y_test = pd.read_csv(\"../data/stroke_y_test.csv\")"
   ]
  },
  {
   "cell_type": "code",
   "execution_count": 3,
   "id": "e078b8b3-e7d8-436a-ae4e-a1abaf6a7b29",
   "metadata": {},
   "outputs": [
    {
     "data": {
      "text/plain": [
       "Stroke    1879\n",
       "dtype: int64"
      ]
     },
     "execution_count": 3,
     "metadata": {},
     "output_type": "execute_result"
    }
   ],
   "source": [
    "b=(y_train ==1).sum()\n",
    "b"
   ]
  },
  {
   "cell_type": "code",
   "execution_count": 4,
   "id": "0229175f-9839-410e-a4ef-282dadab7d97",
   "metadata": {},
   "outputs": [],
   "source": [
    "import warnings\n",
    "warnings.filterwarnings('ignore')\n",
    "mlp_relu = MLPClassifier(hidden_layer_sizes=(100,), max_iter=300, random_state=42)\n",
    "mlp_relu.fit(X_train, y_train)\n",
    "y_pred_relu = mlp_relu.predict(X_test)\n"
   ]
  },
  {
   "cell_type": "code",
   "execution_count": 5,
   "id": "1e8eb7b4-90d3-457d-9149-ee52555f62ae",
   "metadata": {},
   "outputs": [],
   "source": [
    "def rok(tp,fp,tn,fn):\n",
    "    accuracy = (tp+tn) / (tp+fp+fn+tn)\n",
    "    precision = tp / (tp+fp)\n",
    "    recall = tp / (tp+fn)\n",
    "    specificity = tn / (tn+fp)\n",
    "    mcc = (tp * tn - fp * fn) / np.sqrt((tp + fp) * (tp + fn) * (tn + fp) * (tn + fn))\n",
    "    \n",
    "    print(f'accuracy : {accuracy.round(6)}, precision : {precision.round(6)}, recall : {recall.round(6)}, specificity : {specificity.round(6)}, F1-Score : {(2*precision*recall / (precision+recall)).round(6)}, MCC : {mcc.round(6)}')"
   ]
  },
  {
   "cell_type": "code",
   "execution_count": 6,
   "id": "29b34973-72ca-40ee-9d28-8a7d488ef0e6",
   "metadata": {},
   "outputs": [
    {
     "name": "stdout",
     "output_type": "stream",
     "text": [
      "accuracy : 0.90835, precision : 0.164384, recall : 0.292683, specificity : 0.935175, F1-Score : 0.210526, MCC : 0.173743\n"
     ]
    }
   ],
   "source": [
    "cm_relu = confusion_matrix(y_test, y_pred_relu)\n",
    "tn, fp, fn, tp = cm_relu.ravel()  # confusion matrix의 각 값 추출\n",
    "rok(tp,fp,tn,fn)"
   ]
  },
  {
   "cell_type": "code",
   "execution_count": 7,
   "id": "e8fb0e51-b5f6-4df3-a5d9-b619e6c94b97",
   "metadata": {},
   "outputs": [
    {
     "name": "stdout",
     "output_type": "stream",
     "text": [
      "accuracy : 0.873727, precision : 0.119266, recall : 0.317073, specificity : 0.897981, F1-Score : 0.173333, MCC : 0.136935\n"
     ]
    }
   ],
   "source": [
    "import warnings\n",
    "warnings.filterwarnings('ignore')\n",
    "mlp_tanh = MLPClassifier(hidden_layer_sizes=(100,), activation = 'tanh', max_iter=300, random_state=42)\n",
    "mlp_tanh.fit(X_train, y_train)\n",
    "y_pred_tanh = mlp_tanh.predict(X_test)\n",
    "cm_tanh = confusion_matrix(y_test, y_pred_tanh)\n",
    "tn1, fp1, fn1, tp1 = cm_tanh.ravel()  # confusion matrix의 각 값 추출\n",
    "rok(tp1,fp1,tn1,fn1)"
   ]
  },
  {
   "cell_type": "code",
   "execution_count": 8,
   "id": "9bf93f07-813d-4d32-bcfe-bfb9f9f7add6",
   "metadata": {},
   "outputs": [
    {
     "name": "stdout",
     "output_type": "stream",
     "text": [
      "accuracy : 0.85336, precision : 0.163399, recall : 0.609756, specificity : 0.863974, F1-Score : 0.257732, MCC : 0.261273\n"
     ]
    }
   ],
   "source": [
    "import warnings\n",
    "warnings.filterwarnings('ignore')\n",
    "mlp_sig = MLPClassifier(hidden_layer_sizes=(100,), activation = 'logistic', max_iter=300, random_state=42)\n",
    "mlp_sig.fit(X_train, y_train)\n",
    "y_pred_sig = mlp_sig.predict(X_test)\n",
    "cm_sig = confusion_matrix(y_test, y_pred_sig)\n",
    "tn2, fp2, fn2, tp2 = cm_sig.ravel()  # confusion matrix의 각 값 추출\n",
    "rok(tp2,fp2,tn2,fn2)"
   ]
  },
  {
   "cell_type": "code",
   "execution_count": null,
   "id": "6f474cad-6112-498d-ba91-2dd0843d048b",
   "metadata": {},
   "outputs": [],
   "source": []
  }
 ],
 "metadata": {
  "kernelspec": {
   "display_name": "Python [conda env:base] *",
   "language": "python",
   "name": "conda-base-py"
  },
  "language_info": {
   "codemirror_mode": {
    "name": "ipython",
    "version": 3
   },
   "file_extension": ".py",
   "mimetype": "text/x-python",
   "name": "python",
   "nbconvert_exporter": "python",
   "pygments_lexer": "ipython3",
   "version": "3.12.7"
  }
 },
 "nbformat": 4,
 "nbformat_minor": 5
}
