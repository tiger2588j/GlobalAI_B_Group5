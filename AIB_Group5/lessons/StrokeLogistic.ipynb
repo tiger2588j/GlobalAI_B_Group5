{
 "cells": [
  {
   "cell_type": "code",
   "execution_count": 1,
   "id": "fbb3ec60-641e-444e-9a89-6f8281b0d8a2",
   "metadata": {},
   "outputs": [],
   "source": [
    "import pandas as pd\n",
    "import numpy as np\n",
    "import matplotlib.pyplot as plt\n",
    "import seaborn as sns\n",
    "\n",
    "from sklearn.metrics import recall_score\n",
    "from sklearn.impute import SimpleImputer\n",
    "from sklearn.linear_model import LogisticRegression, LinearRegression\n",
    "from sklearn.preprocessing import OneHotEncoder, StandardScaler\n",
    "from sklearn.model_selection import train_test_split, cross_val_score, KFold\n",
    "from sklearn.metrics import mean_squared_error, classification_report, confusion_matrix, accuracy_score, recall_score, precision_score, f1_score\n",
    "from sklearn.neighbors import KNeighborsRegressor\n",
    "from sklearn.metrics import confusion_matrix\n"
   ]
  },
  {
   "cell_type": "code",
   "execution_count": 2,
   "id": "9786ce14-0116-49b5-ab9f-40d095063285",
   "metadata": {
    "scrolled": true
   },
   "outputs": [],
   "source": [
    "data1 = pd.read_csv('../data/stroke_X_train_smote.csv')\n",
    "data2 = pd.read_csv('../data/stroke_X_test.csv')\n",
    "data3 = pd.read_csv('../data/stroke_Y_train_smote.csv')\n",
    "data4 = pd.read_csv('../data/stroke_Y_test.csv')\n",
    "\n",
    "data1.isnull().sum()\n",
    "\n",
    "train_data = pd.concat([data1, data3], axis=1)"
   ]
  },
  {
   "cell_type": "code",
   "execution_count": 3,
   "id": "4a969110-aafa-4c3c-9dba-7183b1bedf2b",
   "metadata": {},
   "outputs": [
    {
     "data": {
      "text/plain": [
       "(5637, 1)"
      ]
     },
     "execution_count": 3,
     "metadata": {},
     "output_type": "execute_result"
    }
   ],
   "source": [
    "data3.shape"
   ]
  },
  {
   "cell_type": "code",
   "execution_count": 4,
   "id": "a50c8b66-11b2-45e5-8263-73d9130572ae",
   "metadata": {},
   "outputs": [],
   "source": [
    "def rok(tp,fp,tn,fn):\n",
    "    accuracy = (tp+tn) / (tp+fp+fn+tn)\n",
    "    precision = tp / (tp+fp)\n",
    "    recall = tp / (tp+fn)\n",
    "    specificity = tn / (tn+fp)\n",
    "    mcc = (tp * tn - fp * fn) / np.sqrt((tp + fp) * (tp + fn) * (tn + fp) * (tn + fn))\n",
    "    \n",
    "    print(f'accuracy : {accuracy.round(6)}, precision : {precision.round(6)}, recall : {recall.round(6)}, specificity : {specificity.round(6)}, F1-Score : {(2*precision*recall / (precision+recall)).round(6)}, MCC : {mcc.round(6)}')"
   ]
  },
  {
   "cell_type": "code",
   "execution_count": 5,
   "id": "06db6c1a-e87d-4dc2-a183-6fcee015c507",
   "metadata": {},
   "outputs": [
    {
     "name": "stdout",
     "output_type": "stream",
     "text": [
      "26 140 801 15\n",
      "accuracy : 0.842159, precision : 0.156627, recall : 0.634146, specificity : 0.851222, F1-Score : 0.251208, MCC : 0.259035\n"
     ]
    }
   ],
   "source": [
    "import warnings\n",
    "warnings.filterwarnings('ignore')\n",
    "\n",
    "lr = LogisticRegression(max_iter=170)\n",
    "lr.fit(data1, data3)\n",
    "\n",
    "y_pred = lr.predict(data2)\n",
    "train_score = lr.score(data1, data3)\n",
    "test_score = lr.score(data2, data4)\n",
    "cm = confusion_matrix(data4, y_pred)\n",
    "tn, fp, fn, tp = cm.ravel()\n",
    "print(tp,fp,tn,fn)\n",
    "'''\n",
    "a = round(train_score, 3)\n",
    "b = round(test_score, 3)\n",
    "\n",
    "print(f\"Train score = {a}, test score = {b}\")\n",
    "'''\n",
    "rok(tp,fp,tn,fn)"
   ]
  },
  {
   "cell_type": "code",
   "execution_count": 6,
   "id": "1cb5245d-4e25-491b-ad57-35d41862c107",
   "metadata": {},
   "outputs": [
    {
     "data": {
      "text/plain": [
       "Index(['gender_Male', 'ever_married_Yes', 'work_type_Never_worked',\n",
       "       'work_type_Private', 'work_type_Self-employed', 'work_type_children',\n",
       "       'Residence_type_Urban', 'smoking_status_formerly smoked',\n",
       "       'smoking_status_never smoked', 'smoking_status_smokes', 'age',\n",
       "       'hypertension', 'heart_disease', 'avg_glucose_level', 'bmi', 'Stroke'],\n",
       "      dtype='object')"
      ]
     },
     "execution_count": 6,
     "metadata": {},
     "output_type": "execute_result"
    }
   ],
   "source": [
    "train_data.columns"
   ]
  },
  {
   "cell_type": "code",
   "execution_count": 7,
   "id": "28025648-a7d2-4b97-8774-e2b5f28ff531",
   "metadata": {},
   "outputs": [
    {
     "data": {
      "image/png": "[encoded data removed]",
      "text/plain": [
       "<Figure size 800x600 with 1 Axes>"
      ]
     },
     "metadata": {},
     "output_type": "display_data"
    }
   ],
   "source": [
    "plt.figure(figsize=(8, 6))\n",
    "sns.countplot(x='Residence_type_Urban', hue='Stroke', data=train_data, palette='pastel')\n",
    "plt.title('Residence type and Stroke')\n",
    "plt.xlabel('Residence type')\n",
    "plt.ylabel('Stroke')\n",
    "plt.legend(title='Stroke', loc='upper right')\n",
    "plt.show()"
   ]
  },
  {
   "cell_type": "code",
   "execution_count": null,
   "id": "c678b143-70e2-4663-94b7-5344f0d22ce3",
   "metadata": {},
   "outputs": [],
   "source": []
  }
 ],
 "metadata": {
  "kernelspec": {
   "display_name": "Python [conda env:base] *",
   "language": "python",
   "name": "conda-base-py"
  },
  "language_info": {
   "codemirror_mode": {
    "name": "ipython",
    "version": 3
   },
   "file_extension": ".py",
   "mimetype": "text/x-python",
   "name": "python",
   "nbconvert_exporter": "python",
   "pygments_lexer": "ipython3",
   "version": "3.12.7"
  }
 },
 "nbformat": 4,
 "nbformat_minor": 5
}
