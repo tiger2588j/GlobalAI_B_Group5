{
 "cells": [
  {
   "cell_type": "code",
   "execution_count": 1,
   "id": "5c2d3b7c-ccd0-48cc-a879-1b7613faa2d7",
   "metadata": {},
   "outputs": [
    {
     "data": {
      "text/plain": [
       "Index(['id', 'gender', 'age', 'hypertension', 'heart_disease', 'ever_married',\n",
       "       'work_type', 'Residence_type', 'avg_glucose_level', 'bmi',\n",
       "       'smoking_status', 'stroke'],\n",
       "      dtype='object')"
      ]
     },
     "execution_count": 1,
     "metadata": {},
     "output_type": "execute_result"
    }
   ],
   "source": [
    "import pandas as pd\n",
    "import numpy as np\n",
    "import matplotlib.pyplot as plt\n",
    "import seaborn as sns\n",
    "\n",
    "from sklearn.impute import SimpleImputer\n",
    "from sklearn.tree import DecisionTreeClassifier, plot_tree\n",
    "from sklearn.linear_model import LogisticRegression, LinearRegression\n",
    "from sklearn.preprocessing import OneHotEncoder, StandardScaler\n",
    "from sklearn.model_selection import train_test_split, cross_val_score, KFold\n",
    "from sklearn.metrics import mean_squared_error, classification_report, confusion_matrix, accuracy_score, recall_score, precision_score, f1_score\n",
    "from sklearn.neighbors import KNeighborsRegressor\n",
    "\n",
    "data = pd.read_csv('../data/stroke.csv')\n",
    "data.columns"
   ]
  },
  {
   "cell_type": "code",
   "execution_count": 2,
   "id": "a1b8b4b9-9ddc-4740-9895-8c6513cb046d",
   "metadata": {},
   "outputs": [
    {
     "data": {
      "text/plain": [
       "(5109, 12)"
      ]
     },
     "execution_count": 2,
     "metadata": {},
     "output_type": "execute_result"
    }
   ],
   "source": [
    "data.shape"
   ]
  },
  {
   "cell_type": "code",
   "execution_count": 3,
   "id": "91b2edd9-54e2-45ce-a7a0-12f154be6537",
   "metadata": {},
   "outputs": [
    {
     "data": {
      "text/plain": [
       "Index(['id', 'gender', 'age', 'hypertension', 'heart_disease', 'ever_married',\n",
       "       'work_type', 'Residence_type', 'avg_glucose_level', 'bmi',\n",
       "       'smoking_status', 'stroke'],\n",
       "      dtype='object')"
      ]
     },
     "execution_count": 3,
     "metadata": {},
     "output_type": "execute_result"
    }
   ],
   "source": [
    "data.columns"
   ]
  },
  {
   "cell_type": "code",
   "execution_count": 4,
   "id": "4ec220f1-99d0-45e1-b0ec-f60e68afd106",
   "metadata": {},
   "outputs": [],
   "source": [
    "data = data.dropna()"
   ]
  },
  {
   "cell_type": "code",
   "execution_count": 5,
   "id": "0f9e50f9-61f4-4766-a5f6-716fd350c823",
   "metadata": {},
   "outputs": [
    {
     "data": {
      "text/plain": [
       "(982, 10)"
      ]
     },
     "execution_count": 5,
     "metadata": {},
     "output_type": "execute_result"
    }
   ],
   "source": [
    "X = data.drop(columns=['stroke','id'], axis =1, inplace=False)\n",
    "y = data['stroke']\n",
    "X_train, X_test, y_train, y_test = train_test_split(X, y, test_size=0.2, random_state=23)\n",
    "X_test.shape"
   ]
  },
  {
   "cell_type": "code",
   "execution_count": 6,
   "id": "720756cd-12d4-4850-bb70-abc23b0b5371",
   "metadata": {},
   "outputs": [
    {
     "data": {
      "text/plain": [
       "id                   0\n",
       "gender               0\n",
       "age                  0\n",
       "hypertension         0\n",
       "heart_disease        0\n",
       "ever_married         0\n",
       "work_type            0\n",
       "Residence_type       0\n",
       "avg_glucose_level    0\n",
       "bmi                  0\n",
       "smoking_status       0\n",
       "stroke               0\n",
       "dtype: int64"
      ]
     },
     "execution_count": 6,
     "metadata": {},
     "output_type": "execute_result"
    }
   ],
   "source": [
    "data.isnull().sum()"
   ]
  },
  {
   "cell_type": "code",
   "execution_count": 7,
   "id": "bd67511d-9e56-4e34-923d-3a0ad0618f55",
   "metadata": {},
   "outputs": [],
   "source": [
    "data.drop(data[data['smoking_status'] == 'Unknown'].index, inplace=True)"
   ]
  },
  {
   "cell_type": "code",
   "execution_count": 8,
   "id": "4fd47585-4605-45b6-8eda-0570578769c3",
   "metadata": {},
   "outputs": [
    {
     "data": {
      "text/plain": [
       "array(['formerly smoked', 'never smoked', 'smokes'], dtype=object)"
      ]
     },
     "execution_count": 8,
     "metadata": {},
     "output_type": "execute_result"
    }
   ],
   "source": [
    "data['smoking_status'].unique()"
   ]
  },
  {
   "cell_type": "code",
   "execution_count": 9,
   "id": "54e330d3-c9c6-4c12-8f85-3d3c6e354079",
   "metadata": {
    "scrolled": true
   },
   "outputs": [
    {
     "data": {
      "text/plain": [
       "array([36.6, 32.5, 34.4, 24. , 29. , 27.4, 22.8, 29.7, 36.8, 27.3, 28.2,\n",
       "       30.9, 37.5, 25.8, 37.8, 22.4, 48.9, 26.6, 27.2, 23.5, 28.3, 44.2,\n",
       "       22.2, 30.5, 26.5, 33.7, 23.1, 29.9, 23.9, 28.5, 26.4, 20.2, 33.6,\n",
       "       38.6, 39.2, 27.7, 31.4, 36.5, 33.2, 32.8, 40.4, 25.3, 30.2, 47.5,\n",
       "       30. , 28.9, 28.1, 31.1, 21.7, 27. , 24.1, 22.9, 29.1, 32.3, 41.1,\n",
       "       29.8, 26.3, 29.4, 24.4, 28. , 34.6, 30.3, 24.2, 41.5, 22.6, 56.6,\n",
       "       31.3, 31. , 31.7, 35.8, 28.4, 20.1, 26.7, 38.7, 25. , 23.8, 21.8,\n",
       "       27.5, 24.6, 32.9, 26.1, 31.9, 34.1, 25.6, 36.9, 37.3, 45.7, 34.2,\n",
       "       23.6, 22.3, 37.1, 45. , 25.5, 30.8, 32. , 37.4, 34.5, 27.9, 29.5,\n",
       "       46. , 42.5, 35.5, 26.9, 45.5, 31.5, 33. , 23.4, 30.7, 20.5, 21.5,\n",
       "       27.1, 40. , 28.6, 42.2, 29.6, 35.4, 16.9, 32.6, 35.9, 21.2, 42.4,\n",
       "       40.5, 29.3, 17.7, 54.6, 22. , 39.4, 19.7, 22.5, 25.2, 60.9, 23.7,\n",
       "       24.5, 31.2, 25.1, 36. , 26.8, 34.9, 35.3, 36.7, 34.3, 27.6, 24.3,\n",
       "       40.1, 21.9, 38.4, 25.9, 54.7, 24.9, 19.4, 48.2, 20.7, 39.5, 23.3,\n",
       "       64.8, 43.6, 21. , 47.3, 31.6, 21.6, 35.6, 41.8, 41.9, 29.2, 37.9,\n",
       "       44.6, 39.6, 40.3, 24.8, 36.1, 36.3, 25.4, 46.5, 46.6, 26.2, 31.8,\n",
       "       15.3, 38.2, 23.2, 45.2, 49.8, 27.8, 60.2, 23. , 51. , 39.7, 34.7,\n",
       "       21.3, 41.2, 34.8, 35.7, 21.4, 40.8, 41.6, 32.4, 34. , 32.1, 20.4,\n",
       "       30.6, 71.9, 40.6, 21.1, 32.2, 50.2, 18.7, 42.1, 40.9, 47.8, 20.8,\n",
       "       30.1, 17.3, 36.4, 28.7, 22.1, 55.7, 28.8, 19.5, 43. , 41.7, 16.7,\n",
       "       33.8, 43.9, 22.7, 57.5, 37. , 38.5, 44. , 54.2, 40.2, 33.3, 41.3,\n",
       "       35. , 20.9, 32.7, 46.1, 24.7, 33.1, 43.8, 50.3, 38.9, 39.9, 35.2,\n",
       "       78. , 38.3, 41. , 42.6, 43.4, 20.6, 33.5, 43.2, 30.4, 38. , 33.4,\n",
       "       44.9, 44.7, 26. , 36.2, 37.6, 39.8, 35.1, 53.4, 44.3, 55.2, 37.2,\n",
       "       42.8, 18.8, 17.6, 43.7, 42.9, 48.4, 43.1, 39. , 46.2, 49.5, 43.3,\n",
       "       19.3, 44.5, 45.4, 54.8, 20.3, 33.9, 17.2, 17.9, 20. , 52.8, 55.1,\n",
       "       48.5, 55.9, 57.3, 15.7, 18.3, 56. , 19.8, 44.8, 16.1, 19.2, 51.8,\n",
       "       16.4, 39.3, 19.9, 38.1, 57.7, 14.1, 44.4, 38.8, 25.7, 49.3, 42.3,\n",
       "       54. , 56.1, 17.4, 17.1, 11.5, 41.4, 49.4, 45.1, 49.2, 48.7, 42.7,\n",
       "       48.8, 52.7, 16.2, 18.5, 53.5, 50.5, 45.3, 16. , 51.9, 63.3, 40.7,\n",
       "       18.6, 45.9, 48. , 46.8, 50.1, 48.3, 17.8, 39.1, 58.1, 18.2, 37.7,\n",
       "       50.4, 18.1, 15. , 19.1, 59.7, 47.4, 52.9, 61.6, 49.9, 54.3, 47.9,\n",
       "       16.6, 55. , 50.9, 64.4, 92. , 17. , 57.9, 18.4, 57.2, 46.9, 15.4,\n",
       "       47.1, 48.1, 16.8, 51.7, 47.6, 46.3, 54.1])"
      ]
     },
     "execution_count": 9,
     "metadata": {},
     "output_type": "execute_result"
    }
   ],
   "source": [
    "data['bmi'].unique()"
   ]
  },
  {
   "cell_type": "code",
   "execution_count": 10,
   "id": "605f5fbb-abd9-471a-818e-6200384e0752",
   "metadata": {},
   "outputs": [
    {
     "data": {
      "text/plain": [
       "id                   0\n",
       "gender               0\n",
       "age                  0\n",
       "hypertension         0\n",
       "heart_disease        0\n",
       "ever_married         0\n",
       "work_type            0\n",
       "Residence_type       0\n",
       "avg_glucose_level    0\n",
       "bmi                  0\n",
       "smoking_status       0\n",
       "stroke               0\n",
       "dtype: int64"
      ]
     },
     "execution_count": 10,
     "metadata": {},
     "output_type": "execute_result"
    }
   ],
   "source": [
    "data.isnull().sum()"
   ]
  },
  {
   "cell_type": "code",
   "execution_count": 11,
   "id": "f390c9c9-d458-48a1-bbfe-c36e509e9821",
   "metadata": {},
   "outputs": [
    {
     "data": {
      "text/plain": [
       "id                     int64\n",
       "gender                object\n",
       "age                  float64\n",
       "hypertension           int64\n",
       "heart_disease          int64\n",
       "ever_married          object\n",
       "work_type             object\n",
       "Residence_type        object\n",
       "avg_glucose_level    float64\n",
       "bmi                  float64\n",
       "smoking_status        object\n",
       "stroke                 int64\n",
       "dtype: object"
      ]
     },
     "execution_count": 11,
     "metadata": {},
     "output_type": "execute_result"
    }
   ],
   "source": [
    "data.dtypes"
   ]
  },
  {
   "cell_type": "code",
   "execution_count": 12,
   "id": "7bb7fce7-b42e-41be-9ffd-1fefb1093c3b",
   "metadata": {},
   "outputs": [
    {
     "data": {
      "text/plain": [
       "array(['Male', 'Female'], dtype=object)"
      ]
     },
     "execution_count": 12,
     "metadata": {},
     "output_type": "execute_result"
    }
   ],
   "source": [
    "data['gender'].unique()"
   ]
  },
  {
   "cell_type": "code",
   "execution_count": 13,
   "id": "52e595a9-66d2-4a7d-9f8f-dd512225ae3c",
   "metadata": {},
   "outputs": [
    {
     "data": {
      "text/plain": [
       "gender\n",
       "Female    2086\n",
       "Male      1339\n",
       "Name: count, dtype: int64"
      ]
     },
     "execution_count": 13,
     "metadata": {},
     "output_type": "execute_result"
    }
   ],
   "source": [
    "data['gender'].value_counts()"
   ]
  },
  {
   "cell_type": "code",
   "execution_count": 14,
   "id": "19c3da6f-5589-433d-a35c-27dcc81946be",
   "metadata": {},
   "outputs": [
    {
     "data": {
      "text/plain": [
       "(3926, 5)"
      ]
     },
     "execution_count": 14,
     "metadata": {},
     "output_type": "execute_result"
    }
   ],
   "source": [
    "cat_var = ['gender', 'ever_married', 'work_type', 'Residence_type', 'smoking_status']\n",
    "num_var = ['age', 'hypertension', 'heart_disease', 'avg_glucose_level', 'bmi']\n",
    "\n",
    "# Splice the training array\n",
    "X_train_cat = X_train[cat_var]\n",
    "X_train_num = X_train[num_var]\n",
    "X_test_cat = X_test[cat_var]\n",
    "X_test_num = X_test[num_var]\n",
    "X_train_cat.shape"
   ]
  },
  {
   "cell_type": "code",
   "execution_count": 15,
   "id": "da0a49cc-fb3f-4dc0-a453-46d2d5c0d60b",
   "metadata": {},
   "outputs": [
    {
     "data": {
      "text/plain": [
       "array(['Private', 'Self-employed', 'Govt_job', 'children', 'Never_worked'],\n",
       "      dtype=object)"
      ]
     },
     "execution_count": 15,
     "metadata": {},
     "output_type": "execute_result"
    }
   ],
   "source": [
    "data['work_type'].unique()"
   ]
  },
  {
   "cell_type": "code",
   "execution_count": 16,
   "id": "a80ff233-b123-488f-9c0c-122727bfa5ce",
   "metadata": {},
   "outputs": [
    {
     "data": {
      "text/plain": [
       "((3926, 10), (982, 10))"
      ]
     },
     "execution_count": 16,
     "metadata": {},
     "output_type": "execute_result"
    }
   ],
   "source": [
    "import warnings\n",
    "warnings.filterwarnings('ignore')\n",
    "dummy_e = OneHotEncoder(categories='auto', drop='first', sparse_output=False, handle_unknown='ignore')\n",
    "\n",
    "# Categorical feature encoding\n",
    "X_train_dummy = dummy_e.fit_transform(X_train_cat)\n",
    "X_test_dummy = dummy_e.transform(X_test_cat)\n",
    "\n",
    "\n",
    "# Check the shape\n",
    "X_train_dummy.shape, X_test_dummy.shape"
   ]
  },
  {
   "cell_type": "code",
   "execution_count": 17,
   "id": "275ee34b-4a11-4c3e-810f-12c76065d723",
   "metadata": {},
   "outputs": [],
   "source": [
    "norm_e = StandardScaler()\n",
    "X_train_norm = norm_e.fit_transform(X_train_num)\n",
    "X_test_norm = norm_e.transform(X_test_num)"
   ]
  },
  {
   "cell_type": "code",
   "execution_count": 18,
   "id": "bc5402ec-9e01-4ca8-83d3-e9045e888a86",
   "metadata": {},
   "outputs": [
    {
     "data": {
      "text/plain": [
       "((3926, 15), (982, 15))"
      ]
     },
     "execution_count": 18,
     "metadata": {},
     "output_type": "execute_result"
    }
   ],
   "source": [
    "X_train = np.hstack((X_train_dummy, X_train_norm))\n",
    "X_test = np.hstack((X_test_dummy, X_test_norm))\n",
    "\n",
    "X_train.shape, X_test.shape"
   ]
  },
  {
   "cell_type": "code",
   "execution_count": 19,
   "id": "c081a3a1-56f3-45ba-8358-26b5b4ac827a",
   "metadata": {},
   "outputs": [
    {
     "name": "stdout",
     "output_type": "stream",
     "text": [
      "(3926, 15)\n",
      "(982, 15)\n"
     ]
    }
   ],
   "source": [
    "print(X_train.shape)\n",
    "print(X_test.shape)"
   ]
  },
  {
   "cell_type": "code",
   "execution_count": 20,
   "id": "dfd3851b-c9fa-4e58-ae4a-72f508557a14",
   "metadata": {},
   "outputs": [
    {
     "data": {
      "text/plain": [
       "array(['gender_Male', 'ever_married_Yes', 'work_type_Never_worked',\n",
       "       'work_type_Private', 'work_type_Self-employed',\n",
       "       'work_type_children', 'Residence_type_Urban',\n",
       "       'smoking_status_formerly smoked', 'smoking_status_never smoked',\n",
       "       'smoking_status_smokes'], dtype=object)"
      ]
     },
     "execution_count": 20,
     "metadata": {},
     "output_type": "execute_result"
    }
   ],
   "source": [
    "dummy_e.get_feature_names_out()"
   ]
  },
  {
   "cell_type": "code",
   "execution_count": 44,
   "id": "26df60ea-0341-4f08-88f0-4d227bf74378",
   "metadata": {},
   "outputs": [],
   "source": [
    "X_train = pd.DataFrame(X_train)\n",
    "X_train.columns = ['gender_Male', 'ever_married_Yes', 'work_type_Never_worked',\n",
    "       'work_type_Private', 'work_type_Self-employed',\n",
    "       'work_type_children', 'Residence_type_Urban',\n",
    "       'smoking_status_formerly smoked', 'smoking_status_never smoked',\n",
    "       'smoking_status_smokes', 'age', 'hypertension', 'heart_disease', 'avg_glucose_level', 'bmi']\n",
    "\n",
    "X_test = pd.DataFrame(X_test)\n",
    "\n",
    "X_test.columns = ['gender_Male', 'ever_married_Yes', 'work_type_Never_worked',\n",
    "       'work_type_Private', 'work_type_Self-employed',\n",
    "       'work_type_children', 'Residence_type_Urban',\n",
    "       'smoking_status_formerly smoked', 'smoking_status_never smoked',\n",
    "       'smoking_status_smokes', 'age', 'hypertension', 'heart_disease', 'avg_glucose_level', 'bmi']\n",
    "y_train = pd.DataFrame(y_train)\n",
    "y_train.columns = ['Stroke']\n",
    "\n",
    "y_test = pd.DataFrame(y_test)\n",
    "y_test.columns = ['Stroke']\n",
    "\n",
    "X_train.to_csv('../data/stroke_X_train.csv', index = False)\n",
    "X_test.to_csv('../data/stroke_X_test.csv' , index = False)\n",
    "y_train.to_csv('../data/stroke_y_train.csv',  index = False)\n",
    "y_test.to_csv('../data/stroke_y_test.csv',  index = False)"
   ]
  },
  {
   "cell_type": "code",
   "execution_count": null,
   "id": "59de7304-decf-4b18-9b8d-600506230fcf",
   "metadata": {},
   "outputs": [],
   "source": []
  }
 ],
 "metadata": {
  "kernelspec": {
   "display_name": "Python [conda env:base] *",
   "language": "python",
   "name": "conda-base-py"
  },
  "language_info": {
   "codemirror_mode": {
    "name": "ipython",
    "version": 3
   },
   "file_extension": ".py",
   "mimetype": "text/x-python",
   "name": "python",
   "nbconvert_exporter": "python",
   "pygments_lexer": "ipython3",
   "version": "3.12.7"
  }
 },
 "nbformat": 4,
 "nbformat_minor": 5
}
